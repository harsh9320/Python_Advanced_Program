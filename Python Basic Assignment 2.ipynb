{
 "cells": [
  {
   "cell_type": "code",
   "execution_count": 30,
   "metadata": {},
   "outputs": [],
   "source": [
    "#Q. Write a function that takes a positive integer num and calculates how many dots exist in a pentagonal shape around the center dot on the Nth iteration. In the image below you can see the first iteration is only a single dot. On the second, there are 6 dots. On the third, there are 16 dots, and on the fourth there are 31 dots.\n",
    "\n",
    "def pentagonal(n): \n",
    "    # Formula to calculate nth Centered pentagonal number.     \n",
    "    return (5 * n * n - 5 * n + 2) // 2"
   ]
  },
  {
   "cell_type": "code",
   "execution_count": 31,
   "metadata": {},
   "outputs": [
    {
     "data": {
      "text/plain": [
       "1"
      ]
     },
     "execution_count": 31,
     "metadata": {},
     "output_type": "execute_result"
    }
   ],
   "source": [
    "pentagonal(1)\n"
   ]
  },
  {
   "cell_type": "code",
   "execution_count": 32,
   "metadata": {},
   "outputs": [
    {
     "data": {
      "text/plain": [
       "6"
      ]
     },
     "execution_count": 32,
     "metadata": {},
     "output_type": "execute_result"
    }
   ],
   "source": [
    "pentagonal(2)\n"
   ]
  },
  {
   "cell_type": "code",
   "execution_count": 33,
   "metadata": {},
   "outputs": [
    {
     "data": {
      "text/plain": [
       "16"
      ]
     },
     "execution_count": 33,
     "metadata": {},
     "output_type": "execute_result"
    }
   ],
   "source": [
    "pentagonal(3)\n"
   ]
  },
  {
   "cell_type": "code",
   "execution_count": 34,
   "metadata": {},
   "outputs": [
    {
     "data": {
      "text/plain": [
       "141"
      ]
     },
     "execution_count": 34,
     "metadata": {},
     "output_type": "execute_result"
    }
   ],
   "source": [
    "pentagonal(8)\n"
   ]
  },
  {
   "cell_type": "code",
   "execution_count": 35,
   "metadata": {},
   "outputs": [],
   "source": [
    "#Q. Make a function that encrypts a given input with these steps: Input: 'apple' Step 1: Reverse the input: 'elppa' Step 2: Replace all vowels using the following chart: a => 0 e => 1 i => 2 o => 2 u => 3 '1lpp0' Step 3: Add 'aca' to the end of the word: '1lpp0aca' Output: '1lpp0aca' Examples encrypt('banana') ➞ '0n0n0baca' encrypt('karaca') ➞ '0c0r0kaca' encrypt('burak') ➞ 'k0r3baca' encrypt('alpaca') ➞ '0c0pl0aca'\n",
    "\n",
    "def encrypt(s):\n",
    "    vowel = 'aeiou'\n",
    "    codes = {'a':0,'e':1,'i':2,'o':2,'u':3}\n",
    "    s = s.lower()\n",
    "    s = s[::-1]\n",
    "    encoded =[]\n",
    "    for i in range(len(s)):\n",
    "        if s[i] in vowel:\n",
    "            encoded.append(str(codes[s[i]]))\n",
    "        else:\n",
    "            encoded.append(s[i])\n",
    "    return(''.join(encoded) + 'aca')"
   ]
  },
  {
   "cell_type": "code",
   "execution_count": 36,
   "metadata": {},
   "outputs": [
    {
     "data": {
      "text/plain": [
       "'1lpp0aca'"
      ]
     },
     "execution_count": 36,
     "metadata": {},
     "output_type": "execute_result"
    }
   ],
   "source": [
    "encrypt('apple')\n"
   ]
  },
  {
   "cell_type": "code",
   "execution_count": 37,
   "metadata": {},
   "outputs": [
    {
     "data": {
      "text/plain": [
       "'p11daca'"
      ]
     },
     "execution_count": 37,
     "metadata": {},
     "output_type": "execute_result"
    }
   ],
   "source": [
    "encrypt('Deep')\n"
   ]
  },
  {
   "cell_type": "code",
   "execution_count": 38,
   "metadata": {},
   "outputs": [
    {
     "data": {
      "text/plain": [
       "'2ll1haca'"
      ]
     },
     "execution_count": 38,
     "metadata": {},
     "output_type": "execute_result"
    }
   ],
   "source": [
    "encrypt('HELLO')\n"
   ]
  },
  {
   "cell_type": "code",
   "execution_count": 39,
   "metadata": {},
   "outputs": [],
   "source": [
    "#Q. Given the month and year as numbers, return whether that month contains a Friday 13th.(i.e You can check Python's datetime module) Examples has_friday_13(3, 2020) ➞ True has_friday_13(10, 2017) ➞ True has_friday_13(1, 1985) ➞ False\n",
    "\n",
    "import datetime \n",
    "def has_friday_13(month,year):\n",
    "    return(True if datetime.datetime.strptime('13 '+' '+str(month)+' '+str(year), '%d %m %Y').weekday()==4 else False)"
   ]
  },
  {
   "cell_type": "code",
   "execution_count": 40,
   "metadata": {},
   "outputs": [
    {
     "data": {
      "text/plain": [
       "True"
      ]
     },
     "execution_count": 40,
     "metadata": {},
     "output_type": "execute_result"
    }
   ],
   "source": [
    "has_friday_13(3, 2020)\n"
   ]
  },
  {
   "cell_type": "code",
   "execution_count": 41,
   "metadata": {},
   "outputs": [
    {
     "data": {
      "text/plain": [
       "True"
      ]
     },
     "execution_count": 41,
     "metadata": {},
     "output_type": "execute_result"
    }
   ],
   "source": [
    "has_friday_13(10, 2017)\n"
   ]
  },
  {
   "cell_type": "code",
   "execution_count": 42,
   "metadata": {},
   "outputs": [
    {
     "data": {
      "text/plain": [
       "False"
      ]
     },
     "execution_count": 42,
     "metadata": {},
     "output_type": "execute_result"
    }
   ],
   "source": [
    "has_friday_13(1, 1985)\n"
   ]
  },
  {
   "cell_type": "code",
   "execution_count": 43,
   "metadata": {},
   "outputs": [
    {
     "data": {
      "text/plain": [
       "2"
      ]
     },
     "execution_count": 43,
     "metadata": {},
     "output_type": "execute_result"
    }
   ],
   "source": [
    "#Q. Write a regular expression that will help us count how many bad cookies are produced every day. You must use RegEx negative lookbehind.\n",
    "\n",
    "import re\n",
    "lst = ['bad cookie', 'good cookie', 'bad cookie', 'good cookie', 'good cookie']\n",
    "pattern = 'bad\\s\\w'\n",
    "len(re.findall(pattern, ', '.join(lst)))"
   ]
  },
  {
   "cell_type": "code",
   "execution_count": 44,
   "metadata": {},
   "outputs": [],
   "source": [
    "#Q. Given a list of words in the singular form, return a set of those words in the plural form if they appear more than once in the list.\n",
    "\n",
    "def pluralize(lst):\n",
    "    ls = []\n",
    "    print(\"The List :\",lst)\n",
    "    for i in lst:\n",
    "        if lst.count(i) > 1:\n",
    "            ls.append(i + 's')\n",
    "        else:\n",
    "            ls.append(i)\n",
    "    return set(ls)"
   ]
  },
  {
   "cell_type": "code",
   "execution_count": 45,
   "metadata": {},
   "outputs": [
    {
     "name": "stdout",
     "output_type": "stream",
     "text": [
      "The List : ['cow', 'pig', 'cow', 'cow']\n"
     ]
    },
    {
     "data": {
      "text/plain": [
       "{'cows', 'pig'}"
      ]
     },
     "execution_count": 45,
     "metadata": {},
     "output_type": "execute_result"
    }
   ],
   "source": [
    "pluralize(['cow', 'pig', 'cow', 'cow'])"
   ]
  },
  {
   "cell_type": "code",
   "execution_count": 46,
   "metadata": {},
   "outputs": [
    {
     "name": "stdout",
     "output_type": "stream",
     "text": [
      "The List : ['table', 'table', 'table']\n"
     ]
    },
    {
     "data": {
      "text/plain": [
       "{'tables'}"
      ]
     },
     "execution_count": 46,
     "metadata": {},
     "output_type": "execute_result"
    }
   ],
   "source": [
    "pluralize(['table', 'table', 'table'])"
   ]
  },
  {
   "cell_type": "code",
   "execution_count": 47,
   "metadata": {},
   "outputs": [
    {
     "name": "stdout",
     "output_type": "stream",
     "text": [
      "The List : ['chair', 'pencil', 'arm']\n"
     ]
    },
    {
     "data": {
      "text/plain": [
       "{'arm', 'chair', 'pencil'}"
      ]
     },
     "execution_count": 47,
     "metadata": {},
     "output_type": "execute_result"
    }
   ],
   "source": [
    "pluralize(['chair', 'pencil', 'arm'])"
   ]
  },
  {
   "cell_type": "code",
   "execution_count": null,
   "metadata": {},
   "outputs": [],
   "source": []
  }
 ],
 "metadata": {
  "kernelspec": {
   "display_name": "Python 3",
   "language": "python",
   "name": "python3"
  },
  "language_info": {
   "codemirror_mode": {
    "name": "ipython",
    "version": 3
   },
   "file_extension": ".py",
   "mimetype": "text/x-python",
   "name": "python",
   "nbconvert_exporter": "python",
   "pygments_lexer": "ipython3",
   "version": "3.8.5"
  }
 },
 "nbformat": 4,
 "nbformat_minor": 4
}
