{
 "cells": [
  {
   "cell_type": "code",
   "execution_count": 73,
   "metadata": {},
   "outputs": [],
   "source": [
    "#Q. 1. YouTube offers different playback speed options for users. This allows users to increase or decrease the speed of the video content. Given the actual duration and playback speed of the video, calculate the playback duration of the video. Examples playback_duration('00:30:00', 2) ➞ '00:15:00' playback_duration('01:20:00', 1.5) ➞ '00:53:20'\n",
    "\n",
    "import datetime\n",
    "def playback_duration(actualDuration,speed):\n",
    "\n",
    "    hour = int(actualDuration.split(':')[0])\n",
    "    minute = int(actualDuration.split(':')[1])\n",
    "    sec = int(actualDuration.split(':')[2])\n",
    "    #Total playbackduration in x speed\n",
    "    totalsec = ((hour*60*60) + (minute*60) + sec)/speed\n",
    "    #convert seconds in to time formate\n",
    "    conversion = datetime.timedelta(seconds=totalsec)\n",
    "    converted_time = str(conversion)\n",
    "    return converted_time"
   ]
  },
  {
   "cell_type": "code",
   "execution_count": 74,
   "metadata": {},
   "outputs": [
    {
     "data": {
      "text/plain": [
       "'0:15:00'"
      ]
     },
     "execution_count": 74,
     "metadata": {},
     "output_type": "execute_result"
    }
   ],
   "source": [
    "playback_duration('00:30:00', 2)\n"
   ]
  },
  {
   "cell_type": "code",
   "execution_count": 75,
   "metadata": {},
   "outputs": [
    {
     "data": {
      "text/plain": [
       "'0:53:20'"
      ]
     },
     "execution_count": 75,
     "metadata": {},
     "output_type": "execute_result"
    }
   ],
   "source": [
    "playback_duration('01:20:00', 1.5)\n"
   ]
  },
  {
   "cell_type": "code",
   "execution_count": 76,
   "metadata": {},
   "outputs": [
    {
     "data": {
      "text/plain": [
       "'1:06:40'"
      ]
     },
     "execution_count": 76,
     "metadata": {},
     "output_type": "execute_result"
    }
   ],
   "source": [
    "playback_duration('03:20:00', 3)\n"
   ]
  },
  {
   "cell_type": "code",
   "execution_count": 77,
   "metadata": {},
   "outputs": [],
   "source": [
    "#Q. 2. We needs your help to construct a building which will be a pile of n cubes. The cube at the bottom will have a volume of n^3, the cube above will have volume of (n-1)^3 and so on until the top which will have a volume of 1^3. Given the total volume m of the building, can you find the number of cubes n required for the building? In other words, you have to return an integer n such that: n^3 + (n-1)^3 + ... + 1^3 == m Return None if there is no such number. Examples pile_of_cubes(1071225) ➞ 45 pile_of_cubes(4183059834009) ➞ 2022 pile_of_cubes(16) ➞ None\n",
    "\n",
    "def max_level(remain_volume, currLevel):\n",
    "    if remain_volume < currLevel ** 3:\n",
    "        return -1\n",
    "    if remain_volume == currLevel ** 3:\n",
    "        return currLevel\n",
    "    return max_level(remain_volume - currLevel**3, currLevel + 1)\n",
    "\n",
    "def pile_of_cubes(vol):\n",
    "    level = 1\n",
    "    return max_level(vol, level)"
   ]
  },
  {
   "cell_type": "code",
   "execution_count": 78,
   "metadata": {},
   "outputs": [
    {
     "data": {
      "text/plain": [
       "45"
      ]
     },
     "execution_count": 78,
     "metadata": {},
     "output_type": "execute_result"
    }
   ],
   "source": [
    "pile_of_cubes(1071225)\n"
   ]
  },
  {
   "cell_type": "code",
   "execution_count": 79,
   "metadata": {},
   "outputs": [
    {
     "data": {
      "text/plain": [
       "-1"
      ]
     },
     "execution_count": 79,
     "metadata": {},
     "output_type": "execute_result"
    }
   ],
   "source": [
    "pile_of_cubes(16)\n"
   ]
  },
  {
   "cell_type": "code",
   "execution_count": 81,
   "metadata": {},
   "outputs": [],
   "source": [
    "#Q. 3. A fulcrum of a list is an integer such that all elements to the left of it and all elements to the right of it sum to the same value. Write a function that finds the fulcrum of a list. To illustrate: find_fulcrum([3, 1, 5, 2, 4, 6, -1]) ➞ 2 // Since [3, 1, 5] and [4, 6, -1] both sum to 9 Examples\n",
    "\n",
    "#find_fulcrum([1, 2, 4, 9, 10, -10, -9, 3]) ➞ 4 find_fulcrum([9, 1, 9]) ➞ 1 find_fulcrum([7, -1, 0, -1, 1, 1, 2, 3]) ➞ 0 find_fulcrum([8, 8, 8, 8]) ➞ -1\n",
    "\n",
    "# Function to compute partition\n",
    "def find_fulcrum(arr) :\n",
    "    size = len(arr)\n",
    "    right_sum, left_sum = 0, 0\n",
    " \n",
    "    # Computing right_sum\n",
    "    for i in range(1, size) :\n",
    "        right_sum += arr[i]\n",
    " \n",
    "    i, j = 0, 1\n",
    " \n",
    "    # Checking the point of partition\n",
    "    # i.e. left_Sum == right_sum\n",
    "    while j < size :\n",
    "        right_sum -= arr[j]\n",
    "        left_sum += arr[i]\n",
    " \n",
    "        if left_sum == right_sum :\n",
    "            return arr[i + 1]\n",
    " \n",
    "        j += 1\n",
    "        i += 1\n",
    " \n",
    "    return -1"
   ]
  },
  {
   "cell_type": "code",
   "execution_count": 82,
   "metadata": {},
   "outputs": [
    {
     "data": {
      "text/plain": [
       "4"
      ]
     },
     "execution_count": 82,
     "metadata": {},
     "output_type": "execute_result"
    }
   ],
   "source": [
    "find_fulcrum([1, 2, 4, 9, 10, -10, -9, 3])\n"
   ]
  },
  {
   "cell_type": "code",
   "execution_count": 83,
   "metadata": {},
   "outputs": [
    {
     "data": {
      "text/plain": [
       "1"
      ]
     },
     "execution_count": 83,
     "metadata": {},
     "output_type": "execute_result"
    }
   ],
   "source": [
    "find_fulcrum([9, 1, 9])\n"
   ]
  },
  {
   "cell_type": "code",
   "execution_count": 84,
   "metadata": {},
   "outputs": [
    {
     "data": {
      "text/plain": [
       "0"
      ]
     },
     "execution_count": 84,
     "metadata": {},
     "output_type": "execute_result"
    }
   ],
   "source": [
    "find_fulcrum([7, -1, 0, -1, 1, 1, 2, 3])\n"
   ]
  },
  {
   "cell_type": "code",
   "execution_count": 85,
   "metadata": {},
   "outputs": [
    {
     "data": {
      "text/plain": [
       "-1"
      ]
     },
     "execution_count": 85,
     "metadata": {},
     "output_type": "execute_result"
    }
   ],
   "source": [
    "find_fulcrum([8, 8, 8, 8])\n"
   ]
  },
  {
   "cell_type": "code",
   "execution_count": 86,
   "metadata": {},
   "outputs": [],
   "source": [
    "#Q. 4. Given a list of integers representing the color of each sock, determine how many pairs of socks with matching colors there are. For example, there are 7 socks with colors [1, 2, 1, 2, 1, 3, 2]. There is one pair of color 1 and one of color 2. There are three odd socks left, one of each color. The number of pairs is 2. Create a function that returns an integer representing the number of matching pairs of socks that are available. Examples sock_merchant([10, 20, 20, 10, 10, 30, 50, 10, 20]) ➞ 3 sock_merchant([50, 20, 30, 90, 30, 20, 50, 20, 90]) ➞ 4 sock_merchant([]) ➞ 0\n",
    "\n",
    "def sock_merchant(lst):\n",
    "    listUnique = list(set(lst))\n",
    "    # find count\n",
    "    pairs = 0\n",
    "    for i in listUnique:\n",
    "        if lst.count(i) // 2 > 0:\n",
    "            pairs = pairs + lst.count(i) // 2\n",
    "    return pairs"
   ]
  },
  {
   "cell_type": "code",
   "execution_count": 87,
   "metadata": {},
   "outputs": [
    {
     "data": {
      "text/plain": [
       "3"
      ]
     },
     "execution_count": 87,
     "metadata": {},
     "output_type": "execute_result"
    }
   ],
   "source": [
    "sock_merchant([10, 20, 20, 10, 10, 30, 50, 10, 20])\n"
   ]
  },
  {
   "cell_type": "code",
   "execution_count": 88,
   "metadata": {},
   "outputs": [
    {
     "data": {
      "text/plain": [
       "4"
      ]
     },
     "execution_count": 88,
     "metadata": {},
     "output_type": "execute_result"
    }
   ],
   "source": [
    "sock_merchant([50, 20, 30, 90, 30, 20, 50, 20, 90])\n"
   ]
  },
  {
   "cell_type": "code",
   "execution_count": 89,
   "metadata": {},
   "outputs": [
    {
     "data": {
      "text/plain": [
       "0"
      ]
     },
     "execution_count": 89,
     "metadata": {},
     "output_type": "execute_result"
    }
   ],
   "source": [
    "sock_merchant([])\n"
   ]
  },
  {
   "cell_type": "code",
   "execution_count": 90,
   "metadata": {},
   "outputs": [],
   "source": [
    "#Q. 5. Create a function that takes a string containing integers as well as other characters and return the sum of the negative integers only. Examples negative_sum('-12 13%14&-11') ➞ -23 // -12 + -11 = -23 negative_sum('22 13%14&-11-22 13 12') ➞ -33 // -11 + -22 = -33\n",
    "\n",
    "import re\n",
    "\n",
    "def negative_sum(s):\n",
    "    result = [int(d) for d in re.findall(r'-\\d+', s)]\n",
    "    print('Negative numbers in string is/are - ',result)\n",
    "    return 'sum is ',sum(result)"
   ]
  },
  {
   "cell_type": "code",
   "execution_count": 91,
   "metadata": {},
   "outputs": [
    {
     "name": "stdout",
     "output_type": "stream",
     "text": [
      "Negative numbers in string is/are -  [-12, -11]\n"
     ]
    },
    {
     "data": {
      "text/plain": [
       "('sum is ', -23)"
      ]
     },
     "execution_count": 91,
     "metadata": {},
     "output_type": "execute_result"
    }
   ],
   "source": [
    "negative_sum('-12 13%14&amp;-11')"
   ]
  },
  {
   "cell_type": "code",
   "execution_count": 92,
   "metadata": {},
   "outputs": [
    {
     "name": "stdout",
     "output_type": "stream",
     "text": [
      "Negative numbers in string is/are -  [-11, -22]\n"
     ]
    },
    {
     "data": {
      "text/plain": [
       "('sum is ', -33)"
      ]
     },
     "execution_count": 92,
     "metadata": {},
     "output_type": "execute_result"
    }
   ],
   "source": [
    "negative_sum('22 13%14&amp;-11-22 13 12')\n"
   ]
  },
  {
   "cell_type": "code",
   "execution_count": null,
   "metadata": {},
   "outputs": [],
   "source": []
  }
 ],
 "metadata": {
  "kernelspec": {
   "display_name": "Python 3",
   "language": "python",
   "name": "python3"
  },
  "language_info": {
   "codemirror_mode": {
    "name": "ipython",
    "version": 3
   },
   "file_extension": ".py",
   "mimetype": "text/x-python",
   "name": "python",
   "nbconvert_exporter": "python",
   "pygments_lexer": "ipython3",
   "version": "3.8.5"
  }
 },
 "nbformat": 4,
 "nbformat_minor": 4
}
