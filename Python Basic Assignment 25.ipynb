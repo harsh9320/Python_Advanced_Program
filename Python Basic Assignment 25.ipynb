{
 "cells": [
  {
   "cell_type": "code",
   "execution_count": 233,
   "metadata": {},
   "outputs": [
    {
     "name": "stdout",
     "output_type": "stream",
     "text": [
      "Repeating list [1, 2, 3, 4, 1, 2, 3, 4, 1, 2, 3, 4]\n",
      "adding at the end of list [1, 2, 3, 4, 1, 2, 3, 4, 1, 2, 3, 4, 8]\n",
      "Removing some elements form list [1, 2, 3, 4, 8]\n",
      "concating list [1, 2, 3, 4, 8, 6, 8]\n"
     ]
    }
   ],
   "source": [
    "#Q.1\n",
    "\n",
    "#Write four functions that directly mutate a list:\n",
    "#repeat(lst, n): Repeat lst n times.\n",
    "#add(lst, x): Adds x to the end of the lst.\n",
    "#remove(lst, m, n): Removes all elements between indices m and n inclusive in lst.\n",
    "#concat(lst, x): concatenates lst with x (another list). Examples lst = [1, 2, 3, 4] repeat(lst, 3) ➞ [1, 2, 3, 4, 1, 2, 3, 4, 1, 2, 3, 4] add(lst, 1) ➞ [1, 2, 3, 4, 1, 2, 3, 4, 1, 2, 3, 4, 1] remove(lst, 1, 12) ➞ [1] concat(lst, [3, 4]) ➞ [1, 3, 4]\n",
    "def repeat(lst,n):\n",
    "    return lst * n\n",
    "\n",
    "def add(lst, x):\n",
    "    lst.append(x)\n",
    "    return lst\n",
    "\n",
    "def remove(lst,m,n):\n",
    "    del lst[m:n+1]\n",
    "    return lst\n",
    "\n",
    "def concat(lst,lst2):\n",
    "    return lst + lst2\n",
    "    \n",
    "\n",
    "lst = [1,2,3,4]\n",
    "lst = repeat(lst,3)\n",
    "print('Repeating list', lst)\n",
    "lst = add(lst,8)\n",
    "print(\"adding at the end of list\",lst)\n",
    "lst = remove(lst,1,8)\n",
    "print('Removing some elements form list',lst)\n",
    "lst = concat(lst,[6,8])\n",
    "print('concating list',lst)"
   ]
  },
  {
   "cell_type": "code",
   "execution_count": 234,
   "metadata": {},
   "outputs": [],
   "source": [
    "#Q.2. The classic game of Mastermind is played on a tray on which the Mastermind conceals a code and the Guesser has 10 tries to guess it. The code is a sequence of 4 (or 6, sometimes more) pegs of different colors. Each guess is a corresponding sequence of 4 (or more) pegs of different colors. A guess is 'correct' when the color of every peg in the guess exactly matches the corresponding peg in the Mastermind's code. After each guess by the Guesser, the Mastermind will give a score comprising black & white pegs, not arranged in any order:\n",
    "\n",
    "def guess_score(code, guesser):\n",
    "    \n",
    "    dict = {'black' : 0, 'white' : 0}\n",
    "    BlackCnt = 0\n",
    "    whiteCnt = 0\n",
    "\n",
    "    if len(code) != len(guesser):\n",
    "        print('code and guesser are of not of equal lenth')\n",
    "        return False\n",
    "\n",
    "    code = [code[x] for x in range(len(code))]    \n",
    "  \n",
    "    # find the black match\n",
    "    for i in range(len(guesser)):\n",
    "        if code[i] == guesser[i]:                \n",
    "            code[i] = '-'                        \n",
    "            BlackCnt += 1 \n",
    "            dict['black'] = BlackCnt             \n",
    "            \n",
    "    #for white matches\n",
    "    for i in range(len(guesser)):\n",
    "        for j in range(len(code)):               \n",
    "            if guesser[i] == code[j]:\n",
    "                code[j] = '-'                   \n",
    "                whiteCnt += 1\n",
    "                dict['white'] = whiteCnt          \n",
    "\n",
    "    return dict"
   ]
  },
  {
   "cell_type": "code",
   "execution_count": 235,
   "metadata": {},
   "outputs": [
    {
     "data": {
      "text/plain": [
       "{'black': 0, 'white': 0}"
      ]
     },
     "execution_count": 235,
     "metadata": {},
     "output_type": "execute_result"
    }
   ],
   "source": [
    "guess_score('1423', '5678')\n"
   ]
  },
  {
   "cell_type": "code",
   "execution_count": 236,
   "metadata": {},
   "outputs": [
    {
     "data": {
      "text/plain": [
       "{'black': 1, 'white': 0}"
      ]
     },
     "execution_count": 236,
     "metadata": {},
     "output_type": "execute_result"
    }
   ],
   "source": [
    "guess_score('1423', '2222')\n"
   ]
  },
  {
   "cell_type": "code",
   "execution_count": 237,
   "metadata": {},
   "outputs": [
    {
     "data": {
      "text/plain": [
       "{'black': 1, 'white': 3}"
      ]
     },
     "execution_count": 237,
     "metadata": {},
     "output_type": "execute_result"
    }
   ],
   "source": [
    "guess_score('1423', '1234')\n"
   ]
  },
  {
   "cell_type": "code",
   "execution_count": 238,
   "metadata": {},
   "outputs": [
    {
     "data": {
      "text/plain": [
       "{'black': 0, 'white': 2}"
      ]
     },
     "execution_count": 238,
     "metadata": {},
     "output_type": "execute_result"
    }
   ],
   "source": [
    "guess_score('1423', '2211')\n"
   ]
  },
  {
   "cell_type": "code",
   "execution_count": 239,
   "metadata": {},
   "outputs": [],
   "source": [
    "#Q.3. Create a function that takes a list lst and a number N and returns a list of two integers from lst whose product equals N. Examples two_product([1, 2, -1, 4, 5], 20) ➞ [4, 5] two_product([1, 2, 3, 4, 5], 10) ➞ [2, 5] two_product([100, 12, 4, 1, 2], 15) ➞ None\n",
    "\n",
    "def two_product(lst, n):\n",
    "    lst = sorted(lst,reverse = True)\n",
    "    divisors = []\n",
    "    for i in range(len(lst)):\n",
    "        for j in range(i+1,len(lst)):\n",
    "            if lst[i]*lst[j] == n:\n",
    "                divisors.append(lst[i])            \n",
    "                divisors.append(lst[j])\n",
    "                break            \n",
    "    return sorted(divisors)"
   ]
  },
  {
   "cell_type": "code",
   "execution_count": 240,
   "metadata": {},
   "outputs": [
    {
     "data": {
      "text/plain": [
       "[4, 5]"
      ]
     },
     "execution_count": 240,
     "metadata": {},
     "output_type": "execute_result"
    }
   ],
   "source": [
    "two_product([1, 2, -1, 4, 5], 20)\n"
   ]
  },
  {
   "cell_type": "code",
   "execution_count": 241,
   "metadata": {},
   "outputs": [
    {
     "data": {
      "text/plain": [
       "[2, 5]"
      ]
     },
     "execution_count": 241,
     "metadata": {},
     "output_type": "execute_result"
    }
   ],
   "source": [
    "two_product([1, 2, 3, 4, 5], 10)\n"
   ]
  },
  {
   "cell_type": "code",
   "execution_count": 242,
   "metadata": {},
   "outputs": [
    {
     "data": {
      "text/plain": [
       "[]"
      ]
     },
     "execution_count": 242,
     "metadata": {},
     "output_type": "execute_result"
    }
   ],
   "source": [
    "two_product([100, 12, 4, 1, 2], 15)\n"
   ]
  },
  {
   "cell_type": "code",
   "execution_count": 243,
   "metadata": {},
   "outputs": [],
   "source": [
    "#Q.4. In this challenge, sort a list containing a series of dates given as strings. Each date is given in the format DD-MM-YYYY_HH:MM: '12-02-2012_13:44' The priority of criteria used for sorting will be:\n",
    "\n",
    "#Year\n",
    "#Month\n",
    "#Day\n",
    "#Hours\n",
    "#Minutes\n",
    "import datetime\n",
    "def sort_dates(d, sort):\n",
    "    if sort == 'ASC':\n",
    "        print(\"Sorting in Ascending order\")\n",
    "        return sorted(d, key=lambda x: datetime.datetime.strptime(x, '%d-%m-%Y_%H:%M'), reverse = False)\n",
    "    elif sort == 'DSC':\n",
    "        print(\"Sorting in Descending order\")\n",
    "        return sorted(d, key=lambda x: datetime.datetime.strptime(x, '%d-%m-%Y_%H:%M'), reverse = True)\n",
    "    else:\n",
    "        print(\"Provide right sorting order\")"
   ]
  },
  {
   "cell_type": "code",
   "execution_count": 244,
   "metadata": {},
   "outputs": [
    {
     "name": "stdout",
     "output_type": "stream",
     "text": [
      "Sorting in Ascending order\n"
     ]
    },
    {
     "data": {
      "text/plain": [
       "['10-02-2016_12:30', '10-02-2018_12:15', '10-02-2018_12:30']"
      ]
     },
     "execution_count": 244,
     "metadata": {},
     "output_type": "execute_result"
    }
   ],
   "source": [
    "sort_dates(['10-02-2018_12:30', '10-02-2016_12:30', '10-02-2018_12:15'],\n",
    "'ASC')"
   ]
  },
  {
   "cell_type": "code",
   "execution_count": 245,
   "metadata": {},
   "outputs": [
    {
     "name": "stdout",
     "output_type": "stream",
     "text": [
      "Sorting in Descending order\n"
     ]
    },
    {
     "data": {
      "text/plain": [
       "['10-02-2018_12:30', '10-02-2018_12:15', '10-02-2016_12:30']"
      ]
     },
     "execution_count": 245,
     "metadata": {},
     "output_type": "execute_result"
    }
   ],
   "source": [
    "sort_dates(['10-02-2018_12:30', '10-02-2016_12:30', '10-02-2018_12:15'],\n",
    "'DSC')"
   ]
  },
  {
   "cell_type": "code",
   "execution_count": 246,
   "metadata": {},
   "outputs": [],
   "source": [
    "#Q.5. Write a function that selects all words that have all the same vowels (in any order and/or number) as the first word, including the first word. Examples same_vowel_group(['toe', 'ocelot', 'maniac']) ➞ ['toe', 'ocelot'] same_vowel_group(['many', 'carriage', 'emit', 'apricot', 'animal']) ➞ ['many'] same_vowel_group(['hoops', 'chuff', 'bot', 'bottom']) ➞ ['hoops', 'bot', 'bottom']\n",
    "\n",
    "def findVowelInWord(word):\n",
    "    lstvowstr = ''    \n",
    "    for i in range(len(word)):        \n",
    "        if word[i] in vowel:\n",
    "            lstvowstr = lstvowstr + word[i]\n",
    "    return ''.join(set(lstvowstr))\n",
    "\n",
    "\n",
    "def same_vowel_group(lst):\n",
    "    vowel = 'aeiou'\n",
    "    resultlst = []\n",
    "    test = findVowelInWord(lst[0])   \n",
    "    resultlst.append(lst[0]) \n",
    "    for i in range(1,len(lst)):\n",
    "        vowWord = findVowelInWord(lst[i])\n",
    "        if test == vowWord: \n",
    "            resultlst.append(lst[i])\n",
    "    return resultlst"
   ]
  },
  {
   "cell_type": "code",
   "execution_count": 247,
   "metadata": {},
   "outputs": [],
   "source": [
    "#Q.6. Create a function that takes a list of more than three numbers and returns the Least Common Multiple (LCM). Examples lcm_of_list([1, 2, 3, 4, 5, 6, 7, 8, 9, 10]) ➞ 2520 lcm_of_list([13, 6, 17, 18, 19, 20, 37]) ➞ 27965340 lcm_of_list([44, 64, 12, 17, 65]) ➞ 2333760\n",
    "\n",
    "from math import gcd\n",
    "def lcm_of_list(lst):\n",
    "    a = [100, 200, 150]   \n",
    "    lcm = 1\n",
    "    for i in lst:\n",
    "        lcm = lcm*i//gcd(lcm, i)\n",
    "    return lcm"
   ]
  },
  {
   "cell_type": "code",
   "execution_count": 248,
   "metadata": {},
   "outputs": [
    {
     "data": {
      "text/plain": [
       "2520"
      ]
     },
     "execution_count": 248,
     "metadata": {},
     "output_type": "execute_result"
    }
   ],
   "source": [
    "lcm_of_list([1, 2, 3, 4, 5, 6, 7, 8, 9, 10])\n"
   ]
  },
  {
   "cell_type": "code",
   "execution_count": 249,
   "metadata": {},
   "outputs": [
    {
     "data": {
      "text/plain": [
       "27965340"
      ]
     },
     "execution_count": 249,
     "metadata": {},
     "output_type": "execute_result"
    }
   ],
   "source": [
    "lcm_of_list([13, 6, 17, 18, 19, 20, 37])\n"
   ]
  },
  {
   "cell_type": "code",
   "execution_count": 250,
   "metadata": {},
   "outputs": [
    {
     "data": {
      "text/plain": [
       "2333760"
      ]
     },
     "execution_count": 250,
     "metadata": {},
     "output_type": "execute_result"
    }
   ],
   "source": [
    "lcm_of_list([44, 64, 12, 17, 65])\n"
   ]
  },
  {
   "cell_type": "code",
   "execution_count": null,
   "metadata": {},
   "outputs": [],
   "source": []
  }
 ],
 "metadata": {
  "kernelspec": {
   "display_name": "Python 3",
   "language": "python",
   "name": "python3"
  },
  "language_info": {
   "codemirror_mode": {
    "name": "ipython",
    "version": 3
   },
   "file_extension": ".py",
   "mimetype": "text/x-python",
   "name": "python",
   "nbconvert_exporter": "python",
   "pygments_lexer": "ipython3",
   "version": "3.8.5"
  }
 },
 "nbformat": 4,
 "nbformat_minor": 4
}
