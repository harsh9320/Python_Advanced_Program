{
 "cells": [
  {
   "cell_type": "code",
   "execution_count": 88,
   "metadata": {},
   "outputs": [],
   "source": [
    "#Q.1. Rondo Form is a type of musical structure, in which there is a recurring theme/refrain, notated as A. Here are the rules for valid rondo forms:\n",
    "\n",
    "#Rondo forms always start and end with an A section.\n",
    "#In between the A sections, there should be contrasting sections notated as B, then C, then D, etc... No letter should be skipped.\n",
    "#There shouldn't be any repeats in the sequence (such as ABBACCA).\n",
    "#Create a function which validates whether a given string is a valid Rondo Form.\n",
    "\n",
    "#Examples\n",
    "\n",
    "#valid_rondo(\"ABACADAEAFAGAHAIAJA\") ➞ True\n",
    "\n",
    "#valid_rondo(\"ABA\") ➞ True\n",
    "\n",
    "#valid_rondo(\"ABBACCA\") ➞ False\n",
    "\n",
    "#valid_rondo(\"ACAC\") ➞ False\n",
    "\n",
    "#valid_rondo(\"A\") ➞ False\n",
    "\n",
    "def valid_rondo(s):\n",
    "    letter = ord(\"A\")\n",
    "    next_letter = ord(\"B\")\n",
    "    l= len(s)\n",
    "    if l<2:\n",
    "        return False\n",
    "    elif s[0] and s[l-1] != \"A\":\n",
    "        return False\n",
    "    else:\n",
    "        for i in range(0,l-1,2):\n",
    "\n",
    "            if s[i]!= \"A\":\n",
    "                return False\n",
    "            else:\n",
    "                for i in range(1,l-1,2):\n",
    "\n",
    "                    if ord(s[i]) != next_letter:\n",
    "                        return False\n",
    "                    else:\n",
    "                        next_letter += 1\n",
    "                return True"
   ]
  },
  {
   "cell_type": "code",
   "execution_count": 89,
   "metadata": {},
   "outputs": [
    {
     "data": {
      "text/plain": [
       "True"
      ]
     },
     "execution_count": 89,
     "metadata": {},
     "output_type": "execute_result"
    }
   ],
   "source": [
    "valid_rondo(\"ABACADAEAFAGAHAIAJA\")\n"
   ]
  },
  {
   "cell_type": "code",
   "execution_count": 90,
   "metadata": {},
   "outputs": [
    {
     "data": {
      "text/plain": [
       "False"
      ]
     },
     "execution_count": 90,
     "metadata": {},
     "output_type": "execute_result"
    }
   ],
   "source": [
    "valid_rondo(\"ACAC\")\n"
   ]
  },
  {
   "cell_type": "code",
   "execution_count": 91,
   "metadata": {},
   "outputs": [
    {
     "data": {
      "text/plain": [
       "False"
      ]
     },
     "execution_count": 91,
     "metadata": {},
     "output_type": "execute_result"
    }
   ],
   "source": [
    "valid_rondo(\"ABBACCA\")\n"
   ]
  },
  {
   "cell_type": "code",
   "execution_count": 92,
   "metadata": {},
   "outputs": [
    {
     "data": {
      "text/plain": [
       "False"
      ]
     },
     "execution_count": 92,
     "metadata": {},
     "output_type": "execute_result"
    }
   ],
   "source": [
    "valid_rondo(\"ACAC\")\n"
   ]
  },
  {
   "cell_type": "code",
   "execution_count": 93,
   "metadata": {},
   "outputs": [
    {
     "data": {
      "text/plain": [
       "False"
      ]
     },
     "execution_count": 93,
     "metadata": {},
     "output_type": "execute_result"
    }
   ],
   "source": [
    "valid_rondo(\"A\")\n"
   ]
  },
  {
   "cell_type": "code",
   "execution_count": 94,
   "metadata": {},
   "outputs": [],
   "source": [
    "#Q. 2. Create a function that returns the whole of the first sentence which contains a specific word. Include the full stop at the end of the sentence.\n",
    "\n",
    "#Examples\n",
    "\n",
    "#txt = \"I have a cat. I have a mat. Things are going swell.\"\n",
    "\n",
    "#sentence_searcher(txt, \"have\") ➞ \"I have a cat.\"\n",
    "\n",
    "#sentence_searcher(txt, \"MAT\") ➞ \"I have a mat.\"\n",
    "\n",
    "#sentence_searcher(txt, \"things\") ➞ \"Things are going swell.\"\n",
    "\n",
    "#sentence_searcher(txt, \"flat\") ➞ \"\"\n",
    "\n",
    "def sentence_searcher(txt,s):\n",
    "    t = txt.split(\".\")\n",
    "    s=s.lower()\n",
    "    for i in t:\n",
    "        x=i.lower()\n",
    "        if s in x:\n",
    "\n",
    "            return i\n",
    "        return \"\" \n",
    "    \n",
    "txt = \"I have a cat. I have a mat. Things are going swell.\""
   ]
  },
  {
   "cell_type": "code",
   "execution_count": 95,
   "metadata": {},
   "outputs": [
    {
     "data": {
      "text/plain": [
       "'I have a cat'"
      ]
     },
     "execution_count": 95,
     "metadata": {},
     "output_type": "execute_result"
    }
   ],
   "source": [
    "sentence_searcher(txt, \"have\")\n"
   ]
  },
  {
   "cell_type": "code",
   "execution_count": 96,
   "metadata": {},
   "outputs": [
    {
     "data": {
      "text/plain": [
       "''"
      ]
     },
     "execution_count": 96,
     "metadata": {},
     "output_type": "execute_result"
    }
   ],
   "source": [
    "sentence_searcher(txt, \"MAT\")\n"
   ]
  },
  {
   "cell_type": "code",
   "execution_count": 97,
   "metadata": {},
   "outputs": [
    {
     "data": {
      "text/plain": [
       "''"
      ]
     },
     "execution_count": 97,
     "metadata": {},
     "output_type": "execute_result"
    }
   ],
   "source": [
    "sentence_searcher(txt, \"things\")\n"
   ]
  },
  {
   "cell_type": "code",
   "execution_count": 98,
   "metadata": {},
   "outputs": [
    {
     "data": {
      "text/plain": [
       "''"
      ]
     },
     "execution_count": 98,
     "metadata": {},
     "output_type": "execute_result"
    }
   ],
   "source": [
    "sentence_searcher(txt, \"flat\")\n"
   ]
  },
  {
   "cell_type": "code",
   "execution_count": 99,
   "metadata": {},
   "outputs": [],
   "source": [
    "#Q. 3. Given a number, find the \"round \"of each digit of the number. An integer is called \"round\" if all its digits except the leftmost (most significant) are equal to zero.\n",
    "\n",
    "#- Round numbers: 4000, 1, 9, 800, 90\n",
    "#- Not round numbers: 110, 707, 222, 1001\n",
    "\n",
    "#Create a function that takes a number and returns the \"round\" of each digit (except if the digit is zero) as a string. Check out the following examples for more clarification.\n",
    "\n",
    "#Examples\n",
    "\n",
    "#sum_round(101) ➞ \"1 100\"\n",
    "\n",
    "#sum_round(1234) ➞ \"4 30 200 1000\"\n",
    "\n",
    "#sum_round(54210) ➞ \"10 200 4000 50000\"\n",
    "\n",
    "def sum_round(n):\n",
    "    n=str(n)\n",
    "    n=n[::-1]\n",
    "    z = \"\"\n",
    "    for i in range(len(n)):\n",
    "        x = int(n[i])*(10**i) \n",
    "        if x != 0:\n",
    "            z += str(x)\n",
    "            z += \" \"\n",
    "    return z"
   ]
  },
  {
   "cell_type": "code",
   "execution_count": 100,
   "metadata": {},
   "outputs": [
    {
     "data": {
      "text/plain": [
       "'1 100 '"
      ]
     },
     "execution_count": 100,
     "metadata": {},
     "output_type": "execute_result"
    }
   ],
   "source": [
    "sum_round(101)\n"
   ]
  },
  {
   "cell_type": "code",
   "execution_count": 101,
   "metadata": {},
   "outputs": [
    {
     "data": {
      "text/plain": [
       "'4 30 200 1000 '"
      ]
     },
     "execution_count": 101,
     "metadata": {},
     "output_type": "execute_result"
    }
   ],
   "source": [
    "sum_round(1234)\n"
   ]
  },
  {
   "cell_type": "code",
   "execution_count": 102,
   "metadata": {},
   "outputs": [
    {
     "data": {
      "text/plain": [
       "'10 200 4000 50000 '"
      ]
     },
     "execution_count": 102,
     "metadata": {},
     "output_type": "execute_result"
    }
   ],
   "source": [
    "sum_round(54210)\n"
   ]
  },
  {
   "cell_type": "code",
   "execution_count": 103,
   "metadata": {},
   "outputs": [],
   "source": [
    "#Q.4. Your task, is to create N x N multiplication table, of size n provided in parameter. For example, when n is 5, the multiplication table is:\n",
    "\n",
    "#1, 2, 3, 4, 5\n",
    "#2, 4, 6, 8, 10\n",
    "#3, 6, 9, 12, 15\n",
    "#4, 8, 12, 16, 20\n",
    "#5, 10, 15, 20, 25 This example will result in: [[1, 2, 3, 4, 5], [2, 4, 6, 8, 10], [3, 6, 9, 12, 15], [4, 8, 12, 16, 20], [5, 10, 15, 20, 25]] Examples multiplication_table(1) ➞ [[1]] multiplication_table(3) ➞ [[1, 2, 3], [2, 4, 6], [3, 6, 9]]\n",
    "def multiplication_table(n):   \n",
    "    t = 1\n",
    "    tab = []\n",
    "    tmp = []\n",
    "    while t <= n:\n",
    "        tmp = []\n",
    "        for i in range(1,n+1):\n",
    "            tmp.append(i*t)\n",
    "        tab.append(tmp)\n",
    "        t = t + 1\n",
    "    return tab"
   ]
  },
  {
   "cell_type": "code",
   "execution_count": 104,
   "metadata": {},
   "outputs": [
    {
     "data": {
      "text/plain": [
       "[[1]]"
      ]
     },
     "execution_count": 104,
     "metadata": {},
     "output_type": "execute_result"
    }
   ],
   "source": [
    "multiplication_table(1)\n"
   ]
  },
  {
   "cell_type": "code",
   "execution_count": 105,
   "metadata": {},
   "outputs": [
    {
     "data": {
      "text/plain": [
       "[[1, 2, 3], [2, 4, 6], [3, 6, 9]]"
      ]
     },
     "execution_count": 105,
     "metadata": {},
     "output_type": "execute_result"
    }
   ],
   "source": [
    "multiplication_table(3)\n"
   ]
  },
  {
   "cell_type": "code",
   "execution_count": 106,
   "metadata": {},
   "outputs": [
    {
     "data": {
      "text/plain": [
       "[[1, 2, 3, 4, 5],\n",
       " [2, 4, 6, 8, 10],\n",
       " [3, 6, 9, 12, 15],\n",
       " [4, 8, 12, 16, 20],\n",
       " [5, 10, 15, 20, 25]]"
      ]
     },
     "execution_count": 106,
     "metadata": {},
     "output_type": "execute_result"
    }
   ],
   "source": [
    "multiplication_table(5)\n"
   ]
  },
  {
   "cell_type": "code",
   "execution_count": 107,
   "metadata": {},
   "outputs": [],
   "source": [
    "#Q. 5. Create a function that returns True if two lines rhyme and False otherwise. For the purposes of this exercise, two lines rhyme if the last word from each sentence contains the same vowels.\n",
    "\n",
    "#Examples\n",
    "\n",
    "#does_rhyme(\"Sam I am!\", \"Green eggs and ham.\") ➞ True\n",
    "\n",
    "#does_rhyme(\"Sam I am!\", \"Green eggs and HAM.\") ➞ True\n",
    "\n",
    "#Capitalization and punctuation should not matter.\n",
    "\n",
    "#does_rhyme(\"You are off to the races\", \"a splendid day.\") ➞ False\n",
    "\n",
    "#does_rhyme(\"and frequently do?\", \"you gotta move.\") ➞ False\n",
    "\n",
    "def last(s):\n",
    "    s=s.split(\" \")[-1]\n",
    "    n1=\"\"\n",
    "    for i in s:\n",
    "        if (i.isalpha()) == True:\n",
    "            n1+=i\n",
    "    return n1\n",
    "def does_rhyme(s1,s2):\n",
    "    s1=last(s1)\n",
    "    s2=last(s2)\n",
    "    for i in range(len(s1),0,-1):\n",
    "        if s1 in s2:\n",
    "            return True\n",
    "        else:\n",
    "            return False"
   ]
  },
  {
   "cell_type": "code",
   "execution_count": 108,
   "metadata": {},
   "outputs": [
    {
     "data": {
      "text/plain": [
       "True"
      ]
     },
     "execution_count": 108,
     "metadata": {},
     "output_type": "execute_result"
    }
   ],
   "source": [
    "does_rhyme(\"Sam I am!\", \"Green eggs and ham.\")\n"
   ]
  },
  {
   "cell_type": "code",
   "execution_count": 109,
   "metadata": {},
   "outputs": [
    {
     "data": {
      "text/plain": [
       "False"
      ]
     },
     "execution_count": 109,
     "metadata": {},
     "output_type": "execute_result"
    }
   ],
   "source": [
    "does_rhyme(\"and frequently do?\", \"you gotta move.\")\n"
   ]
  },
  {
   "cell_type": "code",
   "execution_count": 110,
   "metadata": {},
   "outputs": [
    {
     "data": {
      "text/plain": [
       "False"
      ]
     },
     "execution_count": 110,
     "metadata": {},
     "output_type": "execute_result"
    }
   ],
   "source": [
    "does_rhyme(\"Sam I am!\", \"Green eggs and HAM.\")\n"
   ]
  },
  {
   "cell_type": "code",
   "execution_count": 111,
   "metadata": {},
   "outputs": [
    {
     "data": {
      "text/plain": [
       "False"
      ]
     },
     "execution_count": 111,
     "metadata": {},
     "output_type": "execute_result"
    }
   ],
   "source": [
    "does_rhyme(\"You are off to the races\", \"a splendid day.\")\n"
   ]
  },
  {
   "cell_type": "code",
   "execution_count": null,
   "metadata": {},
   "outputs": [],
   "source": []
  }
 ],
 "metadata": {
  "kernelspec": {
   "display_name": "Python 3",
   "language": "python",
   "name": "python3"
  },
  "language_info": {
   "codemirror_mode": {
    "name": "ipython",
    "version": 3
   },
   "file_extension": ".py",
   "mimetype": "text/x-python",
   "name": "python",
   "nbconvert_exporter": "python",
   "pygments_lexer": "ipython3",
   "version": "3.8.5"
  }
 },
 "nbformat": 4,
 "nbformat_minor": 4
}
